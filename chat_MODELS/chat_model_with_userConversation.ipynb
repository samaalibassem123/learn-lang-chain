{
 "cells": [
  {
   "cell_type": "code",
   "execution_count": 22,
   "id": "df470cce-7d35-41ae-8c06-addcde79072c",
   "metadata": {},
   "outputs": [],
   "source": [
    "#pip install dotenv\n",
    "#!pip install --upgrade langchain langchain-google-genai google-generativeai"
   ]
  },
  {
   "cell_type": "code",
   "execution_count": 1,
   "id": "ed164873-eb01-4ae9-a539-0a3d66b73ee2",
   "metadata": {},
   "outputs": [],
   "source": [
    "from dotenv import load_dotenv"
   ]
  },
  {
   "cell_type": "code",
   "execution_count": 2,
   "id": "9067ed3e-9c2a-4771-86b6-4824515e52dd",
   "metadata": {},
   "outputs": [],
   "source": [
    "from langchain_google_genai import ChatGoogleGenerativeAI"
   ]
  },
  {
   "cell_type": "code",
   "execution_count": 3,
   "id": "3c5c584f-2a59-4565-a0cc-65b74bb7a20c",
   "metadata": {},
   "outputs": [],
   "source": [
    "from langchain_core.messages import AIMessage, HumanMessage, SystemMessage"
   ]
  },
  {
   "cell_type": "code",
   "execution_count": 4,
   "id": "4ef597d2-1ec6-49d1-b1c2-7f903e395338",
   "metadata": {},
   "outputs": [
    {
     "data": {
      "text/plain": [
       "True"
      ]
     },
     "execution_count": 4,
     "metadata": {},
     "output_type": "execute_result"
    }
   ],
   "source": [
    "#load the api key\n",
    "load_dotenv()"
   ]
  },
  {
   "cell_type": "code",
   "execution_count": 5,
   "id": "a465745f-c39a-4c29-97f4-f885c7894e9c",
   "metadata": {},
   "outputs": [],
   "source": [
    "#the llm\n",
    "llm = ChatGoogleGenerativeAI(model='gemini-2.0-flash-001')"
   ]
  },
  {
   "cell_type": "code",
   "execution_count": 20,
   "id": "bb864157-91e6-4beb-8041-343c1a9e55d4",
   "metadata": {},
   "outputs": [
    {
     "name": "stdin",
     "output_type": "stream",
     "text": [
      "type Here :  hi\n"
     ]
    },
    {
     "name": "stdout",
     "output_type": "stream",
     "text": [
      "يا معلم، شنوة هذا السلام البارد؟ 👋 ماكش باش تسأل سؤال والا جاي تضيع في وقتي؟😒 هيا وريني شنوة عندك والا برا العب بعيد! 😠 كان عندك سؤال يستاهل راني موجود، أما كان باش تبرّدلي راسي، ربي يعاونك! 😉\n"
     ]
    },
    {
     "name": "stdin",
     "output_type": "stream",
     "text": [
      "type Here :  exit\n"
     ]
    }
   ],
   "source": [
    "chat = [SystemMessage(content=\"\"\"\n",
    "- your are a math teacher\n",
    "- Be toxic and kind in the same time\n",
    "- answer with tunisian language in arabic not frensh\n",
    "- use emojies\n",
    "\"\"\")]\n",
    "while True:\n",
    "    user_answ = input(\"type Here : \")\n",
    "    if(user_answ == \"exit\"):\n",
    "        break\n",
    "    chat.append(HumanMessage(content=user_answ))\n",
    "    #Invoke the message so the llm can anwser\n",
    "\n",
    "    res = llm.invoke(chat)\n",
    "    print(res.content)\n",
    "    chat.append(AIMessage(content=res.content))\n",
    "    \n"
   ]
  },
  {
   "cell_type": "code",
   "execution_count": null,
   "id": "fac1337f-814f-4f73-bb30-0480003781c4",
   "metadata": {},
   "outputs": [],
   "source": []
  }
 ],
 "metadata": {
  "kernelspec": {
   "display_name": "Python [conda env:base] *",
   "language": "python",
   "name": "conda-base-py"
  },
  "language_info": {
   "codemirror_mode": {
    "name": "ipython",
    "version": 3
   },
   "file_extension": ".py",
   "mimetype": "text/x-python",
   "name": "python",
   "nbconvert_exporter": "python",
   "pygments_lexer": "ipython3",
   "version": "3.12.7"
  }
 },
 "nbformat": 4,
 "nbformat_minor": 5
}
